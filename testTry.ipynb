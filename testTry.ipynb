{
 "cells": [
  {
   "cell_type": "code",
   "execution_count": null,
   "metadata": {},
   "outputs": [],
   "source": [
    "st = \"sordted\"\n",
    "\n",
    "st2 = ''.join(sorted(st))\n",
    "print(st2)\n",
    "\n",
    "# sort() is for lists\n",
    "\n",
    "\n"
   ]
  },
  {
   "cell_type": "code",
   "execution_count": 14,
   "metadata": {},
   "outputs": [
    {
     "data": {
      "text/plain": [
       "['abc', 'a']"
      ]
     },
     "execution_count": 14,
     "metadata": {},
     "output_type": "execute_result"
    }
   ],
   "source": [
    "s = [] + [\"abc\"]\n",
    "s + ['a']"
   ]
  },
  {
   "cell_type": "code",
   "execution_count": 2,
   "metadata": {},
   "outputs": [
    {
     "name": "stdout",
     "output_type": "stream",
     "text": [
      "Largest 2 elements: [3, 2]\n"
     ]
    }
   ],
   "source": [
    "values = [1,1,1,2,2,3]\n",
    "import heapq\n",
    "# Convert the list into a heap\n",
    "heapq.heapify(values)\n",
    "# Get the n largest elements from the heap\n",
    "n_largest = heapq.nlargest(2, values)\n",
    " \n",
    "# Print the n largest elements\n",
    "print(\"Largest 2 elements:\", n_largest)"
   ]
  },
  {
   "cell_type": "code",
   "execution_count": null,
   "metadata": {},
   "outputs": [],
   "source": [
    "values = [1,3,6,2,8,12]\n",
    "k = 3\n",
    "heapq.heapify(values)\n",
    "for i in values:\n",
    "    if len(values) == k: # If size is k then we dont want to increase the size further \n",
    "        heappushpop(values)\n",
    "    else: # Size is not k then freely push values\n",
    "        heappush(values)"
   ]
  }
 ],
 "metadata": {
  "kernelspec": {
   "display_name": "Python 3",
   "language": "python",
   "name": "python3"
  },
  "language_info": {
   "codemirror_mode": {
    "name": "ipython",
    "version": 3
   },
   "file_extension": ".py",
   "mimetype": "text/x-python",
   "name": "python",
   "nbconvert_exporter": "python",
   "pygments_lexer": "ipython3",
   "version": "3.11.0"
  },
  "orig_nbformat": 4
 },
 "nbformat": 4,
 "nbformat_minor": 2
}
